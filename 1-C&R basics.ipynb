{
 "cells": [
  {
   "cell_type": "markdown",
   "id": "4564868c-f848-4ffd-9ae7-b334fbc5b1db",
   "metadata": {},
   "source": [
    "## Classification and Regression with Random Forest\n",
    "\n",
    "### Description\n",
    "\n",
    "`randomForest` implements Breiman's random forest algorithm (based on Breiman and Cutler's original Fortran code) for classification and regression. It can also be used in unsupervised mode for assessing proximities among data points.\n",
    "\n",
    "randomForest实现Breiman的随机森林算法(基于Breiman和Cutler的原始Fortran代码)用于分类和回归。它也可以在无监督模式下用于评估数据点之间的相似性。"
   ]
  },
  {
   "cell_type": "markdown",
   "id": "cdedf6ab-b2d3-49f9-8418-f3edafb4ea9a",
   "metadata": {},
   "source": [
    "理论参见：\n",
    "- Greenwell, B.M. Tree-Based Methods for Statistical Learning in R. 2022.\n",
    "- https://easyai.tech/ai-definition/random-forest/\n",
    "- https://zhuanlan.zhihu.com/p/86263786\n",
    "- https://zhuanlan.zhihu.com/p/28217071"
   ]
  },
  {
   "cell_type": "markdown",
   "id": "d0de7019-7aeb-4182-93eb-521922646b21",
   "metadata": {},
   "source": [
    "### Usage\n",
    "\n",
    "```\n",
    "## S3 method for class 'formula'\n",
    "randomForest(formula, data=NULL, ..., subset, na.action=na.fail)\n",
    "## Default S3 method:\n",
    "randomForest(x, y=NULL,  xtest=NULL, ytest=NULL, ntree=500,\n",
    "             mtry=if (!is.null(y) && !is.factor(y))\n",
    "             max(floor(ncol(x)/3), 1) else floor(sqrt(ncol(x))),\n",
    "             weights=NULL,\n",
    "             replace=TRUE, classwt=NULL, cutoff, strata,\n",
    "             sampsize = if (replace) nrow(x) else ceiling(.632*nrow(x)),\n",
    "             nodesize = if (!is.null(y) && !is.factor(y)) 5 else 1,\n",
    "             maxnodes = NULL,\n",
    "             importance=FALSE, localImp=FALSE, nPerm=1,\n",
    "             proximity, OOB.prox=proximity,\n",
    "             norm.votes=TRUE, do.trace=FALSE,\n",
    "             keep.forest=!is.null(y) && is.null(xtest), corr.bias=FALSE,\n",
    "             keep.inbag=FALSE, ...)\n",
    "## S3 method for class 'randomForest'\n",
    "print(x, ...)\n",
    "```"
   ]
  },
  {
   "cell_type": "markdown",
   "id": "04e3469b-ed22-4637-9866-fb90cd9f9d03",
   "metadata": {},
   "source": [
    "### Arguments\n",
    "|               |                                                              |\n",
    "| ------------- | ------------------------------------------------------------ |\n",
    "| `data`        | an optional data frame containing the variables in the model. By default the variables are taken from the environment which `randomForest` is called from. |\n",
    "| `subset`      | an index vector indicating which rows should be used. (NOTE: If given, this argument must be named.) |\n",
    "| `na.action`   | A function to specify the action to be taken if NAs are found. (NOTE: If given, this argument must be named.) |\n",
    "| `x, formula`  | a data frame or a matrix of predictors, or a formula describing the model to be fitted (for the `print` method, an `randomForest` object). |\n",
    "| `y`           | 响应向量。如果是因子，则做分类，否则做回归。如果省略，' randomForest '则做无监督学习。A response vector. If a factor, classification is assumed, otherwise regression is assumed. If omitted, `randomForest` will run in unsupervised mode. |\n",
    "| `xtest`       | a data frame or matrix (like `x`) containing predictors for the test set. |\n",
    "| `ytest`       | response for the test set.                                   |\n",
    "| `ntree`       |树的数量。这个值不应该设置得太小，以确保每个输入行至少被预测几次。 Number of trees to grow. This should not be set to too small a number, to ensure that every input row gets predicted at least a few times. |\n",
    "| `mtry`        |在每一次分裂中候选变量的个数--从所有的特征中随机抽样而得。注意，默认值：对于分类(sqrt(p)， p是x中的变量数量)和回归(p/3)。 Number of variables randomly sampled as candidates at each split. Note that the default values are different for classification (sqrt(p) where p is number of variables in `x`) and regression (p/3) |\n",
    "| `weights`     | 长度与' y '相同的正值向量，系抽样权重，仅用于对数据点进行采样，生成各棵树(不用于任何其他计算)。A vector of length same as `y` that are positive weights used only in sampling data to grow each tree (not used in any other calculation) |\n",
    "| `replace`     | 抽样时样本是否放回?Should sampling of cases be done with or without replacement? |\n",
    "| `classwt`     |各个目标类别所占份额的调整权重(现有数据可能不能体现原貌)。不需要加起来等于1。若忽略则与现有数据的份额相同。--**可以起到代价敏感的作用。** Priors of the classes. Need not add up to one. Ignored for regression. |\n",
    "| `cutoff`      | 不知道这个做何用(Classification only) A vector of length equal to number of classes. The ‘winning’ class for an observation is the one with the maximum ratio of proportion of votes to cutoff. Default is 1/k where k is the number of classes (i.e., majority vote wins). |\n",
    "| `strata`      |分层抽样怎么需要这个因子变量？没搞懂 A (factor) variable that is used for stratified sampling.    |\n",
    "| `sampsize`    | Size(s) of sample to draw. For classification, if sampsize is a vector of the length the number of strata, then sampling is stratified by strata, and the elements of sampsize indicate the numbers to be drawn from the strata. |\n",
    "| `nodesize`    | 终端节点的包含样例的最小值。将这个数字设置得更大会导致生长出更小的树(因此需要更少的时间)。注意，分类(1)和回归(5)的默认值是不同的。Minimum size of terminal nodes. Setting this number larger causes smaller trees to be grown (and thus take less time). Note that the default values are different for classification (1) and regression (5). |\n",
    "| `maxnodes`    | 森林中树的最大终端节点数。Maximum number of terminal nodes trees in the forest can have. If not given, trees are grown to the maximum possible (subject to limits by `nodesize`). If set larger than maximum possible, a warning is issued. |\n",
    "| `importance`  | Should importance of predictors be assessed?                 |\n",
    "| `localImp`    | Should casewise importance measure be computed? (Setting this to `TRUE` will override `importance`.) |\n",
    "| `nPerm`       | 每棵树乱排OOB数据的次数，用于评估变量的重要性。大于1的次数给出的估计稍微稳定一些，但不是很有效。目前仅用于回归。Number of times the OOB data are permuted per tree for assessing variable importance. Number larger than 1 gives slightly more stable estimate, but not very effective. Currently only implemented for regression. |\n",
    "| `proximity`   | Should proximity measure among the rows be calculated?       |\n",
    "| `OOB.prox`    | Should proximity be calculated only on “out-of-bag” data? defaults to proximity   |\n",
    "| `norm.votes`  | If `TRUE` (default), the final result of votes are expressed as fractions. If `FALSE`, raw vote counts are returned (useful for combining results from different runs). Ignored for regression. |\n",
    "| `do.trace`    | If set to `TRUE`, give a more verbose output as `randomForest` is run. If set to some integer, then running output is printed for every `do.trace` trees. |\n",
    "| `keep.forest` | If set to `FALSE`, the forest will not be retained in the output object. If `xtest` is given, defaults to `FALSE`. |\n",
    "| `corr.bias`   | perform bias correction for regression? Note: Experimental. Use at your own risk. 没搞清楚原理|\n",
    "| `keep.inbag`  | Should an `n` by `ntree` matrix be returned that keeps track of which samples are “in-bag” in which trees (but not how many times, if sampling with replacement) |\n",
    "| `...`         | optional parameters to be passed to the low level function `randomForest.default`. |"
   ]
  },
  {
   "cell_type": "markdown",
   "id": "e2471203-5b00-4464-8635-fa054c192b6f",
   "metadata": {},
   "source": [
    "### Value\n",
    "\n",
    "An object of class `randomForest`, which is a list with the following components:\n",
    "\n",
    "|                |                                                              |\n",
    "| -------------- | ------------------------------------------------------------ |\n",
    "| `call`         | the original call to `randomForest`                          |\n",
    "| `type`         | one of `regression`, `classification`, or `unsupervised`.    |\n",
    "| `predicted`    | the predicted values of the input data based on out-of-bag samples. |\n",
    "| `importance`   | 包含nclass + 2(用于分类)或两列(用于回归)的矩阵。对于分类，前nclass列是针对不同类的度量，计算精度的平均下降。第nclass +1列是所有类的精度下降的平均值。最后一列是基尼系数的平均下降。对于回归，第一列是精度的平均下降，第二列是MSE的平均下降。如果importance=FALSE，最后一个度量值仍然以vector的形式返回。a matrix with `nclass` + 2 (for classification) or two (for regression) columns. For classification, the first `nclass` columns are the class-specific measures computed as mean descrease in accuracy. The `nclass` + 1st column is the mean descrease in accuracy over all classes. The last column is the mean decrease in Gini index. For Regression, the first column is the mean decrease in accuracy and the second the mean decrease in MSE. If `importance=FALSE`, the last measure is still returned as a vector. |\n",
    "| `importanceSD` | “ermutation-based importance measure”也是随机变量，该值用于衡量该变量的变异范围--标准差。The “standard errors” of the permutation-based importance measure. For classification, a `p` by `nclass + 1` matrix corresponding to the first `nclass + 1` columns of the importance matrix. For regression, a length `p` vector. |\n",
    "| `localImp`     | 用于衡量该变量针对于每一个样例预测的重要性。a p by n matrix containing the casewise importance measures, the [i,j] element of which is the importance of i-th variable on the j-th case. `NULL` if `localImp=FALSE`. |\n",
    "| `ntree`        | number of trees grown.                                       |\n",
    "| `mtry`         | number of predictors sampled for spliting at each node.      |\n",
    "| `forest`       | (a list that contains the entire forest; `NULL` if `randomForest` is run in unsupervised mode or if `keep.forest=FALSE`. |\n",
    "| `err.rate`     | (classification only) vector error rates of the prediction on the input data, the i-th element being the (OOB) error rate for all trees up to the i-th. |\n",
    "| `confusion`    | (classification only) the confusion matrix of the prediction (based on OOB data). |\n",
    "| `votes`        | (classification only) a matrix with one row for each input data point and one column for each class, giving the fraction or number of (OOB) ‘votes’ from the random forest. |\n",
    "| `OOB.times`    | number of times cases are ‘out-of-bag’ (and thus used in computing OOB error estimate) |\n",
    "| `proximity`    | if `proximity=TRUE` when `randomForest` is called, a matrix of proximity measures among the input (based on the frequency that pairs of data points are in the same terminal nodes). |\n",
    "| `mse`          | (regression only) vector of mean square errors: sum of squared residuals divided by `n`. |\n",
    "| `rsq`          | (regression only) “pseudo R-squared”: 1 - `mse` / Var(y).    |\n",
    "| `test`         | if test set is given (through the `xtest` or additionally `ytest` arguments), this component is a list which contains the corresponding `predicted`, `err.rate`, `confusion`, `votes` (for classification) or `predicted`, `mse` and `rsq` (for regression) for the test set. If `proximity=TRUE`, there is also a component, `proximity`, which contains the proximity among the test set as well as proximity between test and training data. |"
   ]
  },
  {
   "cell_type": "markdown",
   "id": "7b91f566-bf72-4cb1-a645-9a14e437684e",
   "metadata": {},
   "source": [
    "### Note\n",
    "\n",
    "- The `forest` structure is slightly different between classification and regression. For details on how the trees are stored, see the help page for `getTree`.\n",
    "\n",
    "- If `xtest` is given, prediction of the test set is done “in place” as the trees are grown. If `ytest` is also given, and `do.trace` is set to some positive integer, then for every `do.trace` trees, the test set error is printed. Results for the test set is returned in the `test` component of the resulting `randomForest` object. For classification, the `votes` component (for training or test set data) contain the votes the cases received for the classes. If `norm.votes=TRUE`, the fraction is given, which can be taken as predicted probabilities for the classes.\n",
    "\n",
    "- For large data sets, especially those with large number of variables, calling `randomForest` via the formula interface is not advised: There may be too much overhead in handling the formula.对于大型数据集，特别是具有大量变量的数据集，不建议通过公式接口调用randomForest:处理公式时可能会有太多开销。\n",
    "\n",
    "- The “local” (or casewise) variable importance is computed as follows: For classification, it is the increase in percent of times a case is OOB and misclassified when the variable is permuted. For regression, it is the average increase in squared OOB residuals when the variable is permuted.\n",
    "- Can not handle categorical predictors with more than 53 categories.\n",
    "\n",
    "### Author(s)\n",
    "\n",
    "Andy Liaw [andy_liaw@merck.com](mailto:andy_liaw@merck.com) and Matthew Wiener [matthew_wiener@merck.com](mailto:matthew_wiener@merck.com), based on original Fortran code by Leo Breiman and Adele Cutler.\n",
    "\n",
    "### References\n",
    "\n",
    "Breiman, L. (2001), *Random Forests*, Machine Learning 45(1), 5-32.\n",
    "\n",
    "Breiman, L (2002), “Manual On Setting Up, Using, And Understanding Random Forests V3.1”, https://www.stat.berkeley.edu/~breiman/Using_random_forests_V3.1.pdf.\n",
    "\n",
    "### See Also\n",
    "\n",
    "```\n",
    "predict.randomForest`, `varImpPlot\n",
    "```"
   ]
  },
  {
   "cell_type": "markdown",
   "id": "9e604468-2a2f-428a-a0f7-f44063504c44",
   "metadata": {},
   "source": [
    "## 算法解析"
   ]
  },
  {
   "cell_type": "markdown",
   "id": "8fb02211-456b-41eb-ad02-3024d7bf2cdc",
   "metadata": {},
   "source": [
    "### 分类：原理解析\n",
    "基于双环数据集，观察较多的树可使随机森林的分类界限平滑 "
   ]
  },
  {
   "cell_type": "code",
   "execution_count": 33,
   "id": "10ea3ea1-14c9-4f37-8fbe-fdfdb674ba5a",
   "metadata": {
    "vscode": {
     "languageId": "r"
    }
   },
   "outputs": [
    {
     "name": "stdout",
     "output_type": "stream",
     "text": [
      "── Data Summary ────────────────────────\n",
      "                           Values\n",
      "Name                       data  \n",
      "Number of rows             20000 \n",
      "Number of columns          3     \n",
      "_______________________          \n",
      "Column type frequency:           \n",
      "  factor                   1     \n",
      "  numeric                  2     \n",
      "________________________         \n",
      "Group variables            None  \n",
      "\n",
      "── Variable type: factor ───────────────────────────────────────────────────────────────────────────────────────────────────────────────────\n",
      "  skim_variable n_missing complete_rate ordered n_unique top_counts        \n",
      "\u001b[90m1\u001b[39m y                     0             1 FALSE          2 0: 10000, 1: 10000\n",
      "\n",
      "── Variable type: numeric ──────────────────────────────────────────────────────────────────────────────────────────────────────────────────\n",
      "  skim_variable n_missing complete_rate       mean    sd    p0    p25       p50   p75 p100 hist \n",
      "\u001b[90m1\u001b[39m x1                    0             1 -\u001b[31m0\u001b[39m\u001b[31m.\u001b[39m\u001b[31m000\u001b[39m\u001b[31m\u001b[4m5\u001b[24m\u001b[4m3\u001b[24m\u001b[4m4\u001b[24m\u001b[39m  0.612 -\u001b[31m1\u001b[39m\u001b[31m.\u001b[39m\u001b[31m16\u001b[39m -\u001b[31m0\u001b[39m\u001b[31m.\u001b[39m\u001b[31m567\u001b[39m -\u001b[31m0\u001b[39m\u001b[31m.\u001b[39m\u001b[31m00\u001b[39m\u001b[31m2\u001b[4m3\u001b[24m\u001b[4m7\u001b[24m\u001b[39m  0.570 1.17 ▅▇▆▇▅\n",
      "\u001b[90m2\u001b[39m x2                    0             1  0.000\u001b[4m0\u001b[24m\u001b[4m3\u001b[24m\u001b[4m5\u001b[24m4 0.612 -\u001b[31m1\u001b[39m\u001b[31m.\u001b[39m\u001b[31m15\u001b[39m -\u001b[31m0\u001b[39m\u001b[31m.\u001b[39m\u001b[31m568\u001b[39m -\u001b[31m0\u001b[39m\u001b[31m.\u001b[39m\u001b[31m000\u001b[39m\u001b[31m\u001b[4m5\u001b[24m\u001b[4m9\u001b[24m\u001b[4m8\u001b[24m\u001b[39m 0.569 1.14 ▅▇▆▇▆\n"
     ]
    }
   ],
   "source": [
    "library(pacman)\n",
    "\n",
    "options(warn = -1) # 忽略一切警告\n",
    "options(\"width\" = 140) # 充分利用打印宽度\n",
    "options(repr.plot.width = 15, repr.plot.height = 10) # 满幅\n",
    "\n",
    "p_load(rpart)\n",
    "p_load(randomForest)\n",
    "\n",
    "p_load(skimr)\n",
    "s <- skim_tee\n",
    "\n",
    "d <- read.csv(\"circles.csv\")   #由data.py生成\n",
    "d$y <- factor(d$y)\n",
    "s <- skim_tee\n",
    "s(d)"
   ]
  },
  {
   "cell_type": "code",
   "execution_count": 34,
   "id": "29586003",
   "metadata": {
    "vscode": {
     "languageId": "r"
    }
   },
   "outputs": [
    {
     "data": {
      "image/png": "[encoded data removed]",
      "text/plain": [
       "plot without title"
      ]
     },
     "metadata": {
      "image/png": {
       "height": 600,
       "width": 900
      }
     },
     "output_type": "display_data"
    }
   ],
   "source": [
    "set.seed(2) # 固定xstd：xerror具有随机性--数据随机分割的原因\n",
    "plotcp(rpart(y ~ ., data = d, method = \"class\", cp = 0))\n",
    "grid()"
   ]
  },
  {
   "cell_type": "code",
   "execution_count": 35,
   "id": "84aa1c38-da5f-4f5f-adf2-2b925fb263f7",
   "metadata": {
    "vscode": {
     "languageId": "r"
    }
   },
   "outputs": [
    {
     "name": "stdout",
     "output_type": "stream",
     "text": [
      "Call:\n",
      "rpart(formula = y ~ ., data = d, method = \"class\", cp = 0.00054)\n",
      "  n= 20000 \n",
      "\n",
      "            CP nsplit rel error xerror        xstd\n",
      "1  0.215266667      0    1.0000 1.0156 0.007070207\n",
      "2  0.213700000      3    0.3542 0.8108 0.006943354\n",
      "3  0.007750000      4    0.1405 0.1447 0.003663754\n",
      "4  0.006200000      7    0.1119 0.0955 0.003015624\n",
      "5  0.005100000     13    0.0646 0.0807 0.002782872\n",
      "6  0.003366667     16    0.0469 0.0558 0.002329017\n",
      "7  0.003266667     19    0.0368 0.0484 0.002173217\n",
      "8  0.002350000     22    0.0270 0.0373 0.001913226\n",
      "9  0.001933333     25    0.0188 0.0269 0.001629055\n",
      "10 0.000800000     28    0.0130 0.0158 0.001252006\n",
      "11 0.000550000     31    0.0106 0.0117 0.001078497\n",
      "12 0.000540000     36    0.0075 0.0112 0.001055333\n",
      "\n",
      "Variable importance\n",
      "x1 x2 \n",
      "57 43 \n",
      "\n",
      "Node number 1: 20000 observations,    complexity param=0.2152667\n",
      "  predicted class=0  expected loss=0.5  P(node) =1\n",
      "    class counts: 10000 10000\n",
      "   probabilities: 0.500 0.500 \n",
      "  left son=2 (2208 obs) right son=3 (17792 obs)\n",
      "  Primary splits:\n",
      "      x2 < -0.7762734 to the left,  improve=1161.392, (0 missing)\n",
      "      x1 < -0.7841903 to the left,  improve=1148.796, (0 missing)\n",
      "\n",
      "Node number 2: 2208 observations,    complexity param=8e-04\n",
      "  predicted class=0  expected loss=0.01630435  P(node) =0.1104\n",
      "    class counts:  2172    36\n",
      "   probabilities: 0.984 0.016 \n",
      "  left son=4 (2092 obs) right son=5 (116 obs)\n",
      "  Primary splits:\n",
      "      x2 < -0.7937318 to the left,  improve=8.8947890, (0 missing)\n",
      "      x1 < 0.1595238  to the right, improve=0.6141936, (0 missing)\n",
      "  Surrogate splits:\n",
      "      x1 < -0.7526296 to the right, agree=0.949, adj=0.026, (0 split)\n",
      "\n",
      "Node number 3: 17792 observations,    complexity param=0.2152667\n",
      "  predicted class=1  expected loss=0.439973  P(node) =0.8896\n",
      "    class counts:  7828  9964\n",
      "   probabilities: 0.440 0.560 \n",
      "  left son=6 (2292 obs) right son=7 (15500 obs)\n",
      "  Primary splits:\n",
      "      x1 < 0.7610618  to the right, improve=1480.052, (0 missing)\n",
      "      x2 < 0.7731588  to the right, improve=1473.162, (0 missing)\n",
      "\n",
      "Node number 4: 2092 observations\n",
      "  predicted class=0  expected loss=0.005736138  P(node) =0.1046\n",
      "    class counts:  2080    12\n",
      "   probabilities: 0.994 0.006 \n",
      "\n",
      "Node number 5: 116 observations,    complexity param=8e-04\n",
      "  predicted class=0  expected loss=0.2068966  P(node) =0.0058\n",
      "    class counts:    92    24\n",
      "   probabilities: 0.793 0.207 \n",
      "  left son=10 (46 obs) right son=11 (70 obs)\n",
      "  Primary splits:\n",
      "      x1 < -0.3307626 to the left,  improve=6.526108, (0 missing)\n",
      "      x2 < -0.7782544 to the right, improve=1.363083, (0 missing)\n",
      "  Surrogate splits:\n",
      "      x2 < -0.7779462 to the right, agree=0.655, adj=0.13, (0 split)\n",
      "\n",
      "Node number 6: 2292 observations,    complexity param=0.001933333\n",
      "  predicted class=0  expected loss=0.02966841  P(node) =0.1146\n",
      "    class counts:  2224    68\n",
      "   probabilities: 0.970 0.030 \n",
      "  left son=12 (2030 obs) right son=13 (262 obs)\n",
      "  Primary splits:\n",
      "      x1 < 0.8020837  to the right, improve=21.743010, (0 missing)\n",
      "      x2 < -0.1829555 to the left,  improve= 1.750871, (0 missing)\n",
      "  Surrogate splits:\n",
      "      x2 < 0.6691839  to the left,  agree=0.893, adj=0.065, (0 split)\n",
      "\n",
      "Node number 7: 15500 observations,    complexity param=0.2152667\n",
      "  predicted class=1  expected loss=0.3615484  P(node) =0.775\n",
      "    class counts:  5604  9896\n",
      "   probabilities: 0.362 0.638 \n",
      "  left son=14 (2378 obs) right son=15 (13122 obs)\n",
      "  Primary splits:\n",
      "      x2 < 0.7517677  to the right, improve=1981.370, (0 missing)\n",
      "      x1 < -0.7841903 to the left,  improve=1962.712, (0 missing)\n",
      "\n",
      "Node number 10: 46 observations\n",
      "  predicted class=0  expected loss=0  P(node) =0.0023\n",
      "    class counts:    46     0\n",
      "   probabilities: 1.000 0.000 \n",
      "\n",
      "Node number 11: 70 observations,    complexity param=8e-04\n",
      "  predicted class=0  expected loss=0.3428571  P(node) =0.0035\n",
      "    class counts:    46    24\n",
      "   probabilities: 0.657 0.343 \n",
      "  left son=22 (46 obs) right son=23 (24 obs)\n",
      "  Primary splits:\n",
      "      x1 < 0.4128402  to the right, improve=31.542860, (0 missing)\n",
      "      x2 < -0.7895669 to the right, improve= 1.385281, (0 missing)\n",
      "  Surrogate splits:\n",
      "      x2 < -0.7895669 to the right, agree=0.671, adj=0.042, (0 split)\n",
      "\n",
      "Node number 12: 2030 observations\n",
      "  predicted class=0  expected loss=0.004926108  P(node) =0.1015\n",
      "    class counts:  2020    10\n",
      "   probabilities: 0.995 0.005 \n",
      "\n",
      "Node number 13: 262 observations,    complexity param=0.001933333\n",
      "  predicted class=0  expected loss=0.221374  P(node) =0.0131\n",
      "    class counts:   204    58\n",
      "   probabilities: 0.779 0.221 \n",
      "  left son=26 (108 obs) right son=27 (154 obs)\n",
      "  Primary splits:\n",
      "      x2 < 0.3092455  to the right, improve=18.008920, (0 missing)\n",
      "      x1 < 0.7985336  to the left,  improve= 1.456139, (0 missing)\n",
      "\n",
      "Node number 14: 2378 observations,    complexity param=0.003266667\n",
      "  predicted class=0  expected loss=0.04457527  P(node) =0.1189\n",
      "    class counts:  2272   106\n",
      "   probabilities: 0.955 0.045 \n",
      "  left son=28 (2019 obs) right son=29 (359 obs)\n",
      "  Primary splits:\n",
      "      x2 < 0.8057445  to the right, improve=44.117620, (0 missing)\n",
      "      x1 < -0.269368  to the left,  improve= 3.679269, (0 missing)\n",
      "  Surrogate splits:\n",
      "      x1 < -0.6309953 to the right, agree=0.869, adj=0.134, (0 split)\n",
      "\n",
      "Node number 15: 13122 observations,    complexity param=0.2137\n",
      "  predicted class=1  expected loss=0.2539247  P(node) =0.6561\n",
      "    class counts:  3332  9790\n",
      "   probabilities: 0.254 0.746 \n",
      "  left son=30 (2379 obs) right son=31 (10743 obs)\n",
      "  Primary splits:\n",
      "      x1 < -0.7543864 to the left,  improve=2808.89400, (0 missing)\n",
      "      x2 < -0.7278447 to the left,  improve=  69.73523, (0 missing)\n",
      "\n",
      "Node number 22: 46 observations\n",
      "  predicted class=0  expected loss=0  P(node) =0.0023\n",
      "    class counts:    46     0\n",
      "   probabilities: 1.000 0.000 \n",
      "\n",
      "Node number 23: 24 observations\n",
      "  predicted class=1  expected loss=0  P(node) =0.0012\n",
      "    class counts:     0    24\n",
      "   probabilities: 0.000 1.000 \n",
      "\n",
      "Node number 26: 108 observations\n",
      "  predicted class=0  expected loss=0  P(node) =0.0054\n",
      "    class counts:   108     0\n",
      "   probabilities: 1.000 0.000 \n",
      "\n",
      "Node number 27: 154 observations,    complexity param=0.001933333\n",
      "  predicted class=0  expected loss=0.3766234  P(node) =0.0077\n",
      "    class counts:    96    58\n",
      "   probabilities: 0.623 0.377 \n",
      "  left son=54 (96 obs) right son=55 (58 obs)\n",
      "  Primary splits:\n",
      "      x2 < -0.3404285 to the left,  improve=72.311690, (0 missing)\n",
      "      x1 < 0.7985336  to the left,  improve= 1.658451, (0 missing)\n",
      "  Surrogate splits:\n",
      "      x1 < 0.7985336  to the left,  agree=0.643, adj=0.052, (0 split)\n",
      "\n",
      "Node number 28: 2019 observations\n",
      "  predicted class=0  expected loss=0.003962358  P(node) =0.10095\n",
      "    class counts:  2011     8\n",
      "   probabilities: 0.996 0.004 \n",
      "\n",
      "Node number 29: 359 observations,    complexity param=0.003266667\n",
      "  predicted class=0  expected loss=0.2729805  P(node) =0.01795\n",
      "    class counts:   261    98\n",
      "   probabilities: 0.727 0.273 \n",
      "  left son=58 (144 obs) right son=59 (215 obs)\n",
      "  Primary splits:\n",
      "      x1 < -0.3930862 to the left,  improve=35.835360, (0 missing)\n",
      "      x2 < 0.7735257  to the right, improve= 5.872468, (0 missing)\n",
      "  Surrogate splits:\n",
      "      x2 < 0.7518389  to the left,  agree=0.604, adj=0.014, (0 split)\n",
      "\n",
      "Node number 30: 2379 observations,    complexity param=0.003366667\n",
      "  predicted class=0  expected loss=0.05086171  P(node) =0.11895\n",
      "    class counts:  2258   121\n",
      "   probabilities: 0.949 0.051 \n",
      "  left son=60 (2121 obs) right son=61 (258 obs)\n",
      "  Primary splits:\n",
      "      x1 < -0.7903645 to the left,  improve=67.146170, (0 missing)\n",
      "      x2 < 0.1991996  to the right, improve= 5.302973, (0 missing)\n",
      "  Surrogate splits:\n",
      "      x2 < 0.6922957  to the left,  agree=0.895, adj=0.031, (0 split)\n",
      "\n",
      "Node number 31: 10743 observations,    complexity param=0.00775\n",
      "  predicted class=1  expected loss=0.09997207  P(node) =0.53715\n",
      "    class counts:  1074  9669\n",
      "   probabilities: 0.100 0.900 \n",
      "  left son=62 (628 obs) right son=63 (10115 obs)\n",
      "  Primary splits:\n",
      "      x2 < -0.7100174 to the left,  improve=170.0471, (0 missing)\n",
      "      x1 < 0.7070267  to the right, improve=122.8117, (0 missing)\n",
      "\n",
      "Node number 54: 96 observations\n",
      "  predicted class=0  expected loss=0  P(node) =0.0048\n",
      "    class counts:    96     0\n",
      "   probabilities: 1.000 0.000 \n",
      "\n",
      "Node number 55: 58 observations\n",
      "  predicted class=1  expected loss=0  P(node) =0.0029\n",
      "    class counts:     0    58\n",
      "   probabilities: 0.000 1.000 \n",
      "\n",
      "Node number 58: 144 observations\n",
      "  predicted class=0  expected loss=0  P(node) =0.0072\n",
      "    class counts:   144     0\n",
      "   probabilities: 1.000 0.000 \n",
      "\n",
      "Node number 59: 215 observations,    complexity param=0.003266667\n",
      "  predicted class=0  expected loss=0.455814  P(node) =0.01075\n",
      "    class counts:   117    98\n",
      "   probabilities: 0.544 0.456 \n",
      "  left son=118 (117 obs) right son=119 (98 obs)\n",
      "  Primary splits:\n",
      "      x1 < 0.3166168  to the right, improve=106.66050, (0 missing)\n",
      "      x2 < 0.7737504  to the right, improve=  8.62862, (0 missing)\n",
      "  Surrogate splits:\n",
      "      x2 < 0.7731939  to the right, agree=0.642, adj=0.214, (0 split)\n",
      "\n",
      "Node number 60: 2121 observations\n",
      "  predicted class=0  expected loss=0.009429514  P(node) =0.10605\n",
      "    class counts:  2101    20\n",
      "   probabilities: 0.991 0.009 \n",
      "\n",
      "Node number 61: 258 observations,    complexity param=0.003366667\n",
      "  predicted class=0  expected loss=0.3914729  P(node) =0.0129\n",
      "    class counts:   157   101\n",
      "   probabilities: 0.609 0.391 \n",
      "  left son=122 (83 obs) right son=123 (175 obs)\n",
      "  Primary splits:\n",
      "      x2 < 0.3828217  to the right, improve=37.505340, (0 missing)\n",
      "      x1 < -0.7841903 to the left,  improve= 1.910401, (0 missing)\n",
      "\n",
      "Node number 62: 628 observations,    complexity param=0.00775\n",
      "  predicted class=1  expected loss=0.4570064  P(node) =0.0314\n",
      "    class counts:   287   341\n",
      "   probabilities: 0.457 0.543 \n",
      "  left son=124 (155 obs) right son=125 (473 obs)\n",
      "  Primary splits:\n",
      "      x1 < -0.4361486 to the left,  improve=121.35280, (0 missing)\n",
      "      x2 < -0.7440927 to the left,  improve= 16.91671, (0 missing)\n",
      "  Surrogate splits:\n",
      "      x2 < -0.7742586 to the left,  agree=0.756, adj=0.013, (0 split)\n",
      "\n",
      "Node number 63: 10115 observations,    complexity param=0.0062\n",
      "  predicted class=1  expected loss=0.07780524  P(node) =0.50575\n",
      "    class counts:   787  9328\n",
      "   probabilities: 0.078 0.922 \n",
      "  left son=126 (574 obs) right son=127 (9541 obs)\n",
      "  Primary splits:\n",
      "      x1 < 0.7070267  to the right, improve=116.1723, (0 missing)\n",
      "      x2 < 0.6721656  to the right, improve=114.3087, (0 missing)\n",
      "\n",
      "Node number 118: 117 observations\n",
      "  predicted class=0  expected loss=0  P(node) =0.00585\n",
      "    class counts:   117     0\n",
      "   probabilities: 1.000 0.000 \n",
      "\n",
      "Node number 119: 98 observations\n",
      "  predicted class=1  expected loss=0  P(node) =0.0049\n",
      "    class counts:     0    98\n",
      "   probabilities: 0.000 1.000 \n",
      "\n",
      "Node number 122: 83 observations\n",
      "  predicted class=0  expected loss=0  P(node) =0.00415\n",
      "    class counts:    83     0\n",
      "   probabilities: 1.000 0.000 \n",
      "\n",
      "Node number 123: 175 observations,    complexity param=0.003366667\n",
      "  predicted class=1  expected loss=0.4228571  P(node) =0.00875\n",
      "    class counts:    74   101\n",
      "   probabilities: 0.423 0.577 \n",
      "  left son=246 (74 obs) right son=247 (101 obs)\n",
      "  Primary splits:\n",
      "      x2 < -0.3788172 to the left,  improve=85.417140, (0 missing)\n",
      "      x1 < -0.7843877 to the left,  improve= 2.784992, (0 missing)\n",
      "  Surrogate splits:\n",
      "      x1 < -0.7843877 to the left,  agree=0.617, adj=0.095, (0 split)\n",
      "\n",
      "Node number 124: 155 observations\n",
      "  predicted class=0  expected loss=0  P(node) =0.00775\n",
      "    class counts:   155     0\n",
      "   probabilities: 1.000 0.000 \n",
      "\n",
      "Node number 125: 473 observations,    complexity param=0.00775\n",
      "  predicted class=1  expected loss=0.2790698  P(node) =0.02365\n",
      "    class counts:   132   341\n",
      "   probabilities: 0.279 0.721 \n",
      "  left son=250 (131 obs) right son=251 (342 obs)\n",
      "  Primary splits:\n",
      "      x1 < 0.4099955  to the right, improve=188.33140, (0 missing)\n",
      "      x2 < -0.7526388 to the left,  improve= 11.06247, (0 missing)\n",
      "  Surrogate splits:\n",
      "      x2 < -0.7104184 to the right, agree=0.729, adj=0.023, (0 split)\n",
      "\n",
      "Node number 126: 574 observations,    complexity param=0.0062\n",
      "  predicted class=1  expected loss=0.3867596  P(node) =0.0287\n",
      "    class counts:   222   352\n",
      "   probabilities: 0.387 0.613 \n",
      "  left son=252 (115 obs) right son=253 (459 obs)\n",
      "  Primary splits:\n",
      "      x2 < 0.4592357  to the right, improve=105.11970, (0 missing)\n",
      "      x1 < 0.7351856  to the right, improve= 10.32208, (0 missing)\n",
      "  Surrogate splits:\n",
      "      x1 < 0.7071471  to the left,  agree=0.803, adj=0.017, (0 split)\n",
      "\n",
      "Node number 127: 9541 observations,    complexity param=0.0062\n",
      "  predicted class=1  expected loss=0.05921811  P(node) =0.47705\n",
      "    class counts:   565  8976\n",
      "   probabilities: 0.059 0.941 \n",
      "  left son=254 (955 obs) right son=255 (8586 obs)\n",
      "  Primary splits:\n",
      "      x2 < 0.6721656  to the right, improve=90.72551, (0 missing)\n",
      "      x1 < -0.6795833 to the left,  improve=85.12648, (0 missing)\n",
      "\n",
      "Node number 246: 74 observations\n",
      "  predicted class=0  expected loss=0  P(node) =0.0037\n",
      "    class counts:    74     0\n",
      "   probabilities: 1.000 0.000 \n",
      "\n",
      "Node number 247: 101 observations\n",
      "  predicted class=1  expected loss=0  P(node) =0.00505\n",
      "    class counts:     0   101\n",
      "   probabilities: 0.000 1.000 \n",
      "\n",
      "Node number 250: 131 observations\n",
      "  predicted class=0  expected loss=0  P(node) =0.00655\n",
      "    class counts:   131     0\n",
      "   probabilities: 1.000 0.000 \n",
      "\n",
      "Node number 251: 342 observations\n",
      "  predicted class=1  expected loss=0.002923977  P(node) =0.0171\n",
      "    class counts:     1   341\n",
      "   probabilities: 0.003 0.997 \n",
      "\n",
      "Node number 252: 115 observations\n",
      "  predicted class=0  expected loss=0.008695652  P(node) =0.00575\n",
      "    class counts:   114     1\n",
      "   probabilities: 0.991 0.009 \n",
      "\n",
      "Node number 253: 459 observations,    complexity param=0.0062\n",
      "  predicted class=1  expected loss=0.2352941  P(node) =0.02295\n",
      "    class counts:   108   351\n",
      "   probabilities: 0.235 0.765 \n",
      "  left son=506 (107 obs) right son=507 (352 obs)\n",
      "  Primary splits:\n",
      "      x2 < -0.4175399 to the left,  improve=163.182200, (0 missing)\n",
      "      x1 < 0.7338441  to the right, improve=  2.806474, (0 missing)\n",
      "\n",
      "Node number 254: 955 observations,    complexity param=0.0062\n",
      "  predicted class=1  expected loss=0.2659686  P(node) =0.04775\n",
      "    class counts:   254   701\n",
      "   probabilities: 0.266 0.734 \n",
      "  left son=508 (135 obs) right son=509 (820 obs)\n",
      "  Primary splits:\n",
      "      x1 < -0.4776388 to the left,  improve=169.42700, (0 missing)\n",
      "      x2 < 0.7230474  to the right, improve= 24.47405, (0 missing)\n",
      "\n",
      "Node number 255: 8586 observations,    complexity param=0.0051\n",
      "  predicted class=1  expected loss=0.03622176  P(node) =0.4293\n",
      "    class counts:   311  8275\n",
      "   probabilities: 0.036 0.964 \n",
      "  left son=510 (777 obs) right son=511 (7809 obs)\n",
      "  Primary splits:\n",
      "      x1 < -0.6806864 to the left,  improve=63.55518, (0 missing)\n",
      "      x2 < -0.6281385 to the left,  improve=22.15778, (0 missing)\n",
      "\n",
      "Node number 506: 107 observations\n",
      "  predicted class=0  expected loss=0  P(node) =0.00535\n",
      "    class counts:   107     0\n",
      "   probabilities: 1.000 0.000 \n",
      "\n",
      "Node number 507: 352 observations\n",
      "  predicted class=1  expected loss=0.002840909  P(node) =0.0176\n",
      "    class counts:     1   351\n",
      "   probabilities: 0.003 0.997 \n",
      "\n",
      "Node number 508: 135 observations\n",
      "  predicted class=0  expected loss=0  P(node) =0.00675\n",
      "    class counts:   135     0\n",
      "   probabilities: 1.000 0.000 \n",
      "\n",
      "Node number 509: 820 observations,    complexity param=0.0062\n",
      "  predicted class=1  expected loss=0.145122  P(node) =0.041\n",
      "    class counts:   119   701\n",
      "   probabilities: 0.145 0.855 \n",
      "  left son=1018 (120 obs) right son=1019 (700 obs)\n",
      "  Primary splits:\n",
      "      x1 < 0.471361   to the right, improve=201.47760, (0 missing)\n",
      "      x2 < 0.7420825  to the right, improve= 10.00281, (0 missing)\n",
      "\n",
      "Node number 510: 777 observations,    complexity param=0.0051\n",
      "  predicted class=1  expected loss=0.2290862  P(node) =0.03885\n",
      "    class counts:   178   599\n",
      "   probabilities: 0.229 0.771 \n",
      "  left son=1020 (102 obs) right son=1021 (675 obs)\n",
      "  Primary splits:\n",
      "      x2 < -0.4550584 to the left,  improve=139.559400, (0 missing)\n",
      "      x1 < -0.7289632 to the left,  improve=  9.615171, (0 missing)\n",
      "  Surrogate splits:\n",
      "      x1 < -0.6809412 to the right, agree=0.871, adj=0.02, (0 split)\n",
      "\n",
      "Node number 511: 7809 observations,    complexity param=0.00235\n",
      "  predicted class=1  expected loss=0.01703163  P(node) =0.39045\n",
      "    class counts:   133  7676\n",
      "   probabilities: 0.017 0.983 \n",
      "  left son=1022 (1138 obs) right son=1023 (6671 obs)\n",
      "  Primary splits:\n",
      "      x2 < -0.6193506 to the left,  improve=8.066603, (0 missing)\n",
      "      x1 < 0.6173428  to the right, improve=6.533759, (0 missing)\n",
      "\n",
      "Node number 1018: 120 observations\n",
      "  predicted class=0  expected loss=0.008333333  P(node) =0.006\n",
      "    class counts:   119     1\n",
      "   probabilities: 0.992 0.008 \n",
      "\n",
      "Node number 1019: 700 observations\n",
      "  predicted class=1  expected loss=0  P(node) =0.035\n",
      "    class counts:     0   700\n",
      "   probabilities: 0.000 1.000 \n",
      "\n",
      "Node number 1020: 102 observations\n",
      "  predicted class=0  expected loss=0  P(node) =0.0051\n",
      "    class counts:   102     0\n",
      "   probabilities: 1.000 0.000 \n",
      "\n",
      "Node number 1021: 675 observations,    complexity param=0.0051\n",
      "  predicted class=1  expected loss=0.1125926  P(node) =0.03375\n",
      "    class counts:    76   599\n",
      "   probabilities: 0.113 0.887 \n",
      "  left son=2042 (75 obs) right son=2043 (600 obs)\n",
      "  Primary splits:\n",
      "      x2 < 0.4609164  to the right, improve=132.889300, (0 missing)\n",
      "      x1 < -0.7326342 to the left,  improve=  3.474632, (0 missing)\n",
      "\n",
      "Node number 1022: 1138 observations,    complexity param=0.00235\n",
      "  predicted class=1  expected loss=0.07205624  P(node) =0.0569\n",
      "    class counts:    82  1056\n",
      "   probabilities: 0.072 0.928 \n",
      "  left son=2044 (47 obs) right son=2045 (1091 obs)\n",
      "  Primary splits:\n",
      "      x1 < 0.5700085  to the right, improve=84.428420, (0 missing)\n",
      "      x2 < -0.6198347 to the right, improve= 1.790456, (0 missing)\n",
      "\n",
      "Node number 1023: 6671 observations,    complexity param=0.00055\n",
      "  predicted class=1  expected loss=0.007645031  P(node) =0.33355\n",
      "    class counts:    51  6620\n",
      "   probabilities: 0.008 0.992 \n",
      "  left son=2046 (231 obs) right son=2047 (6440 obs)\n",
      "  Primary splits:\n",
      "      x2 < 0.6546998  to the right, improve=2.663760, (0 missing)\n",
      "      x1 < 0.6707992  to the right, improve=1.772475, (0 missing)\n",
      "\n",
      "Node number 2042: 75 observations\n",
      "  predicted class=0  expected loss=0  P(node) =0.00375\n",
      "    class counts:    75     0\n",
      "   probabilities: 1.000 0.000 \n",
      "\n",
      "Node number 2043: 600 observations\n",
      "  predicted class=1  expected loss=0.001666667  P(node) =0.03\n",
      "    class counts:     1   599\n",
      "   probabilities: 0.002 0.998 \n",
      "\n",
      "Node number 2044: 47 observations\n",
      "  predicted class=0  expected loss=0  P(node) =0.00235\n",
      "    class counts:    47     0\n",
      "   probabilities: 1.000 0.000 \n",
      "\n",
      "Node number 2045: 1091 observations,    complexity param=0.00235\n",
      "  predicted class=1  expected loss=0.03208066  P(node) =0.05455\n",
      "    class counts:    35  1056\n",
      "   probabilities: 0.032 0.968 \n",
      "  left son=4090 (35 obs) right son=4091 (1056 obs)\n",
      "  Primary splits:\n",
      "      x1 < -0.5286305 to the left,  improve=67.7543500, (0 missing)\n",
      "      x2 < -0.6841792 to the left,  improve= 0.3692745, (0 missing)\n",
      "\n",
      "Node number 2046: 231 observations,    complexity param=0.00055\n",
      "  predicted class=1  expected loss=0.08225108  P(node) =0.01155\n",
      "    class counts:    19   212\n",
      "   probabilities: 0.082 0.918 \n",
      "  left son=4092 (10 obs) right son=4093 (221 obs)\n",
      "  Primary splits:\n",
      "      x1 < 0.5267393  to the right, improve=17.607490, (0 missing)\n",
      "      x2 < 0.6593916  to the left,  improve= 2.490309, (0 missing)\n",
      "\n",
      "Node number 2047: 6440 observations,    complexity param=0.00055\n",
      "  predicted class=1  expected loss=0.004968944  P(node) =0.322\n",
      "    class counts:    32  6408\n",
      "   probabilities: 0.005 0.995 \n",
      "  left son=4094 (328 obs) right son=4095 (6112 obs)\n",
      "  Primary splits:\n",
      "      x1 < 0.6796812  to the right, improve=1.7217330, (0 missing)\n",
      "      x2 < 0.5767149  to the right, improve=0.9285581, (0 missing)\n",
      "\n",
      "Node number 4090: 35 observations\n",
      "  predicted class=0  expected loss=0  P(node) =0.00175\n",
      "    class counts:    35     0\n",
      "   probabilities: 1.000 0.000 \n",
      "\n",
      "Node number 4091: 1056 observations\n",
      "  predicted class=1  expected loss=0  P(node) =0.0528\n",
      "    class counts:     0  1056\n",
      "   probabilities: 0.000 1.000 \n",
      "\n",
      "Node number 4092: 10 observations\n",
      "  predicted class=0  expected loss=0  P(node) =0.0005\n",
      "    class counts:    10     0\n",
      "   probabilities: 1.000 0.000 \n",
      "\n",
      "Node number 4093: 221 observations,    complexity param=0.00055\n",
      "  predicted class=1  expected loss=0.04072398  P(node) =0.01105\n",
      "    class counts:     9   212\n",
      "   probabilities: 0.041 0.959 \n",
      "  left son=8186 (9 obs) right son=8187 (212 obs)\n",
      "  Primary splits:\n",
      "      x1 < -0.5226399 to the left,  improve=17.266970, (0 missing)\n",
      "      x2 < 0.6566624  to the left,  improve= 1.430234, (0 missing)\n",
      "\n",
      "Node number 4094: 328 observations,    complexity param=0.00055\n",
      "  predicted class=1  expected loss=0.05487805  P(node) =0.0164\n",
      "    class counts:    18   310\n",
      "   probabilities: 0.055 0.945 \n",
      "  left son=8188 (12 obs) right son=8189 (316 obs)\n",
      "  Primary splits:\n",
      "      x2 < 0.4835146  to the right, improve=22.2522400, (0 missing)\n",
      "      x1 < 0.6803607  to the left,  improve= 0.3113101, (0 missing)\n",
      "\n",
      "Node number 4095: 6112 observations\n",
      "  predicted class=1  expected loss=0.002290576  P(node) =0.3056\n",
      "    class counts:    14  6098\n",
      "   probabilities: 0.002 0.998 \n",
      "\n",
      "Node number 8186: 9 observations\n",
      "  predicted class=0  expected loss=0  P(node) =0.00045\n",
      "    class counts:     9     0\n",
      "   probabilities: 1.000 0.000 \n",
      "\n",
      "Node number 8187: 212 observations\n",
      "  predicted class=1  expected loss=0  P(node) =0.0106\n",
      "    class counts:     0   212\n",
      "   probabilities: 0.000 1.000 \n",
      "\n",
      "Node number 8188: 12 observations\n",
      "  predicted class=0  expected loss=0  P(node) =0.0006\n",
      "    class counts:    12     0\n",
      "   probabilities: 1.000 0.000 \n",
      "\n",
      "Node number 8189: 316 observations\n",
      "  predicted class=1  expected loss=0.01898734  P(node) =0.0158\n",
      "    class counts:     6   310\n",
      "   probabilities: 0.019 0.981 \n",
      "\n",
      "\n",
      "------------------------------------------------------------------------------------------------------\n",
      "\n",
      "Call:\n",
      " randomForest(formula = y ~ ., data = d, ntree = ntree) \n",
      "               Type of random forest: classification\n",
      "                     Number of trees: 5\n",
      "No. of variables tried at each split: 1\n",
      "\n",
      "        OOB estimate of  error rate: 0.45%\n",
      "Confusion matrix:\n",
      "     0    1 class.error\n",
      "0 9025   28 0.003092897\n",
      "1   54 8933 0.006008679\n",
      "\n",
      "------------------------------------------------------------------------------------------------------\n",
      "\n",
      "Call:\n",
      " randomForest(formula = y ~ ., data = d, ntree = ntree) \n",
      "               Type of random forest: classification\n",
      "                     Number of trees: 100\n",
      "No. of variables tried at each split: 1\n",
      "\n",
      "        OOB estimate of  error rate: 0.17%\n",
      "Confusion matrix:\n",
      "     0    1 class.error\n",
      "0 9989   11      0.0011\n",
      "1   23 9977      0.0023\n",
      "\n",
      "------------------------------------------------------------------------------------------------------\n"
     ]
    },
    {
     "data": {
      "image/png": "[encoded data removed]",
      "text/plain": [
       "Plot with title \"randomForest ntree = 100\""
      ]
     },
     "metadata": {
      "image/png": {
       "height": 600,
       "width": 900
      }
     },
     "output_type": "display_data"
    }
   ],
   "source": [
    "n <- c(5, 100)  #树的个数\n",
    "par(mfrow = c(1, 3))\n",
    "\n",
    "cto <- rpart(y ~ ., data = d, method = \"class\", cp = 0.00054)  \n",
    "summary(cto)\n",
    "cat(\"\\n------------------------------------------------------------------------------------------------------\\n\")\n",
    "x1 <- seq(min(d$x1), max(d$x1), length = 100)\n",
    "x2 <- seq(min(d$x2), max(d$x2), length = 100)\n",
    "\n",
    "pd <- function(x1, x2) \n",
    "{\n",
    "  predict(cto, data.frame(x1, x2), type = \"prob\")[, 1]\n",
    "}\n",
    "\n",
    "z <- outer(x1, x2, FUN = pd)\n",
    "contour(x1, x2, z, levels = 0.5, drawlabels = FALSE, lwd = 4, asp = 1, col = \"blue\") # 画出分类界限--置信度为0.5的等高线\n",
    "points(d$x1, d$x2, col = d$y)\n",
    "title(paste(\"Rpart tree\"))\n",
    "grid()\n",
    "\n",
    "for (ntree in n) {\n",
    "  set.seed(111)\n",
    "  rf <- randomForest(y ~ ., d, ntree = ntree)\n",
    "  print(rf)\n",
    "  cat(\"\\n------------------------------------------------------------------------------------------------------\\n\")\n",
    "\n",
    "  pd <- function(x1, x2) \n",
    "  {\n",
    "    predict(rf, data.frame(x1, x2),type = \"prob\")[ , 1]\n",
    "  }\n",
    "  z <- outer(x1, x2, FUN = pd)\n",
    "  contour(x1, x2, z, levels = 0.5, drawlabels = FALSE, lwd = 4, asp = 1, col = \"blue\")   #画出分类界限--置信度为0.5的等高线\n",
    "  points(d$x1, d$x2, col = d$y)\n",
    "  title(paste(\"randomForest ntree =\", ntree))\n",
    "  grid()\n",
    "}"
   ]
  },
  {
   "cell_type": "markdown",
   "id": "4d76b9e0-a299-48dc-9db4-b335ffaa36c7",
   "metadata": {},
   "source": [
    "可见：随着树的增多(\"Rpart tree\"只有一棵树)，分类的界限越来越平滑，接近一个圆(理论分界线)，泛化性能越来越好。"
   ]
  },
  {
   "cell_type": "code",
   "execution_count": 36,
   "id": "68d6f253-b4a7-459f-a613-46ecb35e5da3",
   "metadata": {
    "vscode": {
     "languageId": "r"
    }
   },
   "outputs": [
    {
     "data": {
      "image/png": "[encoded data removed]",
      "text/plain": [
       "Plot with title \"n=10000\n",
       "err_tst=0.003\""
      ]
     },
     "metadata": {
      "image/png": {
       "height": 600,
       "width": 900
      }
     },
     "output_type": "display_data"
    }
   ],
   "source": [
    "options(repr.plot.width = 15, repr.plot.height = 10) # 满幅\n",
    "library(randomForest)\n",
    "library(data.table)\n",
    "D <- fread(\"circles.csv\")\n",
    "D$y <- factor(D$y)\n",
    "\n",
    "set.seed(22)\n",
    "I <- sample(2 * 1e4, 1e4)\n",
    "trn <- D[I, ]\n",
    "tst <- D[-I, ]\n",
    "\n",
    "par(mfrow = c(2, 2))\n",
    "for (n in c(1e2, 1e3, 5 * 1e3, 1e4)) {\n",
    "  set.seed(11)\n",
    "  I <- sample(1e4, n)\n",
    "  d <- trn[I, ]\n",
    "\n",
    "  rf <- randomForest(y ~ ., d, ntree = 5)\n",
    "  err_tst <- mean(predict(rf, tst) != tst$y)\n",
    "\n",
    "  x1 <- seq(min(d$x1), max(d$x1), length = 100)\n",
    "  x2 <- seq(min(d$x2), max(d$x2), length = 100)\n",
    "  pd <- function(x1, x2) {\n",
    "    predict(rf, data.frame(x1, x2), type = \"prob\")[, 1]\n",
    "  }\n",
    "\n",
    "  z <- outer(x1, x2, FUN = pd)\n",
    "  contour(x1, x2, z, levels = 0.5, drawlabels = FALSE, lwd = 5, col = \"blue\", asp = 1)\n",
    "  points(d$x1, d$x2, col = d$y, cex = ifelse(n == 100, 100 / n, 10 / n))\n",
    "  grid()\n",
    "  title(stringr::str_glue(\"n={n}\\nerr_tst={round(err_tst,3)}\"))\n",
    "}"
   ]
  },
  {
   "cell_type": "markdown",
   "id": "775392f0-d071-41f7-a3b8-14203b891725",
   "metadata": {},
   "source": [
    "可见，树的个数恒定，随机森林的泛化性能随着训练集的增大而提升--分类的界限越来越圆滑，接近于圆"
   ]
  },
  {
   "cell_type": "markdown",
   "id": "37cec76b-5f9d-4fbe-b928-ca171e0db6af",
   "metadata": {},
   "source": [
    "### 分类：平衡、代价不敏感、无缺失值、特征混合取值\n",
    "The Abalone data consist of data from 4177 abalones. The data consist of measurements of the type (male, female and infant), the longest shell measurement, the diameter, height and several weights (whole, shucked, viscera and shell). The outcome is the number of rings. The age of the abalone is the number of rings plus 1.5.\n",
    "\n",
    "将原abalone数据集的“Rings”值改造成\"L\"、 \"H\"二个平衡类别，当前的问题是根据一系列特征判断abalone的“Rings”类别。"
   ]
  },
  {
   "cell_type": "code",
   "execution_count": null,
   "id": "0a013e94-4c3e-4610-8e40-4a65721b3fd7",
   "metadata": {
    "vscode": {
     "languageId": "r"
    }
   },
   "outputs": [],
   "source": [
    "library(pacman)\n",
    "\n",
    "options(warn = -1) # 忽略一切警告\n",
    "options(\"width\" = 140) # 充分利用打印宽度\n",
    "options(repr.plot.width = 15, repr.plot.height = 10) # 满幅\n",
    "\n",
    "p_load(rpart)\n",
    "p_load(randomForest)\n",
    "p_load(AppliedPredictiveModeling)\n",
    "p_load(skimr)\n",
    "s <- skim_tee"
   ]
  },
  {
   "cell_type": "code",
   "execution_count": null,
   "id": "e1aab599-5551-4939-a1c1-d285eb7ad7b7",
   "metadata": {
    "vscode": {
     "languageId": "r"
    }
   },
   "outputs": [],
   "source": [
    "#将数据改造成平衡的二类(Rings)\n",
    "data(abalone)\n",
    "ab <- abalone\n",
    "ab$Rings <- factor((ab$Rings) > 9, labels = c(\"L\", \"H\")) # 处理成二类，逻辑型factor的levels的排序默认是：FALSE,TRUE，分别对应于\"L\",\"H\"\n",
    "s(ab)"
   ]
  },
  {
   "cell_type": "code",
   "execution_count": null,
   "id": "29aa584a-0328-4010-b754-0d285525d4fa",
   "metadata": {
    "tags": [],
    "vscode": {
     "languageId": "r"
    }
   },
   "outputs": [],
   "source": [
    "# 将数据集1:1随机分割成训练集和测试集\n",
    "set.seed(100)\n",
    "I <- sample(nrow(ab), nrow(ab) * 0.5)\n",
    "train_ab <- ab[I, ]\n",
    "test_ab <- ab[-I, ]\n",
    "s(train_ab)"
   ]
  },
  {
   "cell_type": "code",
   "execution_count": null,
   "id": "c43c6354-6788-4960-8c6f-2dcd79c70be9",
   "metadata": {
    "scrolled": true,
    "vscode": {
     "languageId": "r"
    }
   },
   "outputs": [],
   "source": [
    "set.seed(71)\n",
    "(rf_ab <-randomForest(Rings ~ ., data = train_ab, importance = TRUE, proximity = TRUE, localImp = TRUE)) #默认norm.votes=TRUE"
   ]
  },
  {
   "cell_type": "markdown",
   "id": "f58c0442-0f3d-43d3-9ca6-663f78c31023",
   "metadata": {},
   "source": [
    "“OOB estimate of  error rate”是指训练集中的样例用其没有参与生成的决策树判断的error rate"
   ]
  },
  {
   "cell_type": "code",
   "execution_count": null,
   "id": "ce207069-87e2-48df-92f5-4927b02f50f9",
   "metadata": {
    "vscode": {
     "languageId": "r"
    }
   },
   "outputs": [],
   "source": [
    "#由xerror 1-SE rule确定最优cp=0.011，详见https://github.com/A-Pai/rpart-solveing/blob/main/1-rpart.ipynb\n",
    "ctabo <- rpart(Rings ~ ., data = train_ab, method = \"class\", cp = 0.011) \n",
    "#决策树的泛化性能\n",
    "(error_test_t <- mean(predict(ctabo, test_ab, type = \"class\") != test_ab$Rings))    #测试集的错误率\n",
    "\n",
    "#随机森林的泛化性能\n",
    "(error_test_f <- mean(predict(rf_ab, test_ab) != test_ab$Rings))    #测试集的错误率\n",
    "#随机森林的泛化性能优于决策树"
   ]
  },
  {
   "cell_type": "code",
   "execution_count": null,
   "id": "d553dd31-6e67-40c9-ae6d-19baa125c999",
   "metadata": {
    "vscode": {
     "languageId": "r"
    }
   },
   "outputs": [],
   "source": [
    "#测试集的混淆矩阵\n",
    "table(observed = test_ab$Rings, predicted = predict(rf_ab, test_ab) )"
   ]
  },
  {
   "cell_type": "code",
   "execution_count": null,
   "id": "690c3f15-3c82-4e50-9966-5f5ad7ede7d8",
   "metadata": {
    "scrolled": true,
    "vscode": {
     "languageId": "r"
    }
   },
   "outputs": [],
   "source": [
    "rf_ab$votes #randomForest函数默认norm.votes=TRUE，返回判别的置信度"
   ]
  },
  {
   "cell_type": "code",
   "execution_count": null,
   "id": "9aad266a-286b-4cdc-8fd6-1dafb7f81b32",
   "metadata": {
    "scrolled": true,
    "vscode": {
     "languageId": "r"
    }
   },
   "outputs": [],
   "source": [
    "set.seed(71)\n",
    "(rf_ab <- randomForest(Rings ~ ., data = train_ab, importance = TRUE, proximity = TRUE, localImp = TRUE, norm.votes = FALSE))\n",
    "rf_ab$votes #当上句norm.votes=FALSE时返回返回判定为这个类别的次数"
   ]
  },
  {
   "cell_type": "code",
   "execution_count": null,
   "id": "c20a36c8-c52d-4024-ab0d-4d636f8e6e27",
   "metadata": {
    "vscode": {
     "languageId": "r"
    }
   },
   "outputs": [],
   "source": [
    "hist(rowSums(rf_ab$votes))  #OOB的次数的分布：由于随机性，每个样例OOB的次数不同"
   ]
  },
  {
   "cell_type": "code",
   "execution_count": null,
   "id": "d4cd7eeb-5dc9-4963-840a-a270f9c9c985",
   "metadata": {
    "vscode": {
     "languageId": "r"
    }
   },
   "outputs": [],
   "source": [
    "sum(rf_ab$votes)/(nrow(train_ab)*500)  #样例未被抽中(OOB)的概率\n",
    "#接近1/e=0.3678794"
   ]
  },
  {
   "cell_type": "code",
   "execution_count": null,
   "id": "d8b05fdd-13c1-4949-97a8-c4cde7cba0f8",
   "metadata": {
    "vscode": {
     "languageId": "r"
    }
   },
   "outputs": [],
   "source": [
    "#随着树的增多而收敛,上下曲线对应着二个类别，中间曲线是二者的平均值。\n",
    "plot(rf_ab)\n",
    "grid()"
   ]
  },
  {
   "cell_type": "code",
   "execution_count": null,
   "id": "e9b79971-f767-4c12-8b9b-e278474410c5",
   "metadata": {
    "vscode": {
     "languageId": "r"
    }
   },
   "outputs": [],
   "source": [
    "# 各个特征的重要性均值:\n",
    "(vip <- rf_ab$importance)"
   ]
  },
  {
   "cell_type": "markdown",
   "id": "04afbe70-0501-453f-b771-74bd5938eee2",
   "metadata": {},
   "source": [
    "- MeanDecreaseAccuracy--打乱该变量值在数据集中的排列顺序前后构建随机森林的Accuracy的差的均值：假设这个变量无用(对于目标变量毫无提示作用)，那么打乱这列变量值的排列顺序，不影响最终的Accuracy，如果打乱后所有样例的Accuracy均值下降大，则说明此变量重要。\n",
    "- MeanDecreaseGini--使用该变量导致的Gini值下降幅度的均值：若该变量重要则其在所有决策树中的Gini下降值应该大。"
   ]
  },
  {
   "cell_type": "code",
   "execution_count": null,
   "id": "cef17ff8-56e9-4ab6-921b-3be9b42cf292",
   "metadata": {
    "vscode": {
     "languageId": "r"
    }
   },
   "outputs": [],
   "source": [
    "# 各个特征的重要性标准差:\n",
    "rf_ab$importanceSD"
   ]
  },
  {
   "cell_type": "code",
   "execution_count": null,
   "id": "4d0170d8-8789-4c1f-b698-c33e0a118cc5",
   "metadata": {
    "tags": [],
    "vscode": {
     "languageId": "r"
    }
   },
   "outputs": [],
   "source": [
    "# 变量重要性降序排列\n",
    "par(mfrow = c(3,1))\n",
    "barplot(sort(vip[, \"MeanDecreaseAccuracy\"], decreasing = TRUE), main = \"MeanDecreaseAccuracy\")\n",
    "barplot(sort(vip[, \"MeanDecreaseGini\"], decreasing = TRUE), main = \"MeanDecreaseGini\")\n",
    "barplot(ctabo$variable.importance, main = \"VIP-rpart\")    #最优rpart决策树的变量重要性降序排列\n",
    "#可见三者不尽相同--评价的标准不同"
   ]
  },
  {
   "cell_type": "code",
   "execution_count": null,
   "id": "a864039a-9b30-4f2a-ad79-62fb376aedb7",
   "metadata": {
    "vscode": {
     "languageId": "r"
    }
   },
   "outputs": [],
   "source": [
    "# “局部重要性”--casewise importance measure，应该是“MeanDecreaseAccuracy”？关注这个值有什么用？\n",
    "rf_ab$localImportance"
   ]
  },
  {
   "cell_type": "code",
   "execution_count": null,
   "id": "281958c0-fd36-4bbc-a3bc-a96198533ad8",
   "metadata": {
    "scrolled": true,
    "vscode": {
     "languageId": "r"
    }
   },
   "outputs": [],
   "source": [
    "#每个树的袋外判错率\n",
    "rf_ab$err.rate"
   ]
  },
  {
   "cell_type": "code",
   "execution_count": null,
   "id": "31c3ae4a-0371-4a90-b572-9a7cb48f1367",
   "metadata": {
    "vscode": {
     "languageId": "r"
    }
   },
   "outputs": [],
   "source": [
    "#每个树的袋外判错率的直方图\n",
    "hist(rf_ab$err.rate[,1],100) "
   ]
  },
  {
   "cell_type": "code",
   "execution_count": null,
   "id": "0e2960f1-a535-4a22-a247-64451aba4de7",
   "metadata": {
    "scrolled": true,
    "vscode": {
     "languageId": "r"
    }
   },
   "outputs": [],
   "source": [
    "#每个样例处于OOB的次数\n",
    "hist(rf_ab$oob.times) "
   ]
  },
  {
   "cell_type": "code",
   "execution_count": null,
   "id": "9e9e775d-0f99-4611-81e6-08715d4f306b",
   "metadata": {
    "scrolled": true,
    "vscode": {
     "languageId": "r"
    }
   },
   "outputs": [],
   "source": [
    "#训练集的预测值\n",
    "rf_ab$predicted"
   ]
  },
  {
   "cell_type": "code",
   "execution_count": null,
   "id": "de0e841d-e9a3-4e45-a26a-4845045df2a7",
   "metadata": {
    "scrolled": true,
    "vscode": {
     "languageId": "r"
    }
   },
   "outputs": [],
   "source": [
    "rf_ab$proximity   #出现在同一叶节点的比率--可以用以衡量样例间的相似性"
   ]
  },
  {
   "attachments": {},
   "cell_type": "markdown",
   "id": "893be2ce-9169-4828-ac04-97d8f199cd07",
   "metadata": {},
   "source": [
    "### 分类：非平衡、代价敏感、无缺失值\n",
    "\n",
    "数据集friedman1:The friedman1 benchmark problem uses simulated regression data with 7 input features according to:$Y=10\\sin(\\pi X_1X_2)+20(X_3-0.5)^2+10X_4+5X_5+\\epsilon$ , where $\\epsilon\\sim N(0,\\sigma)$  and the input features are all independent uniform random\n",
    "variables on the interval $[0,1]$: $\\{X_j\\}^{7}_ {j=1}\\overset{iid}{\\sim} U(0,1)$, Notice how $X_6 \\sim X_{10} $ are unrelated to the response $Y$ .\n",
    "\n",
    "\n",
    "将该数据集改造成\"L\"、\"H\"二类数量悬殊的非平衡数据集"
   ]
  },
  {
   "cell_type": "code",
   "execution_count": null,
   "id": "10c86734-9e2e-4482-8dc1-a684adfb028e",
   "metadata": {
    "tags": [],
    "vscode": {
     "languageId": "r"
    }
   },
   "outputs": [],
   "source": [
    "library(pacman)\n",
    "\n",
    "options(warn = -1) # 忽略一切警告\n",
    "options(\"width\" = 140) # 充分利用打印宽度\n",
    "options(repr.plot.width = 15, repr.plot.height = 10) # 满幅\n",
    "\n",
    "p_load(rpart)\n",
    "library(randomForest)\n",
    "p_load(skimr)\n",
    "s <- skim_tee"
   ]
  },
  {
   "cell_type": "markdown",
   "id": "bfca2f42-2c32-4ce3-985f-1b6186c33e6e",
   "metadata": {},
   "source": [
    "**生成数据**"
   ]
  },
  {
   "cell_type": "code",
   "execution_count": null,
   "id": "6c8e1c52-7343-4a46-8518-548bc8d12996",
   "metadata": {
    "tags": [],
    "vscode": {
     "languageId": "r"
    }
   },
   "outputs": [],
   "source": [
    "#训练集\n",
    "set.seed(943) # for reproducibility\n",
    "tr_fr <- treemisc::gen_friedman1(100000, nx = 10, sigma = 0.1)\n",
    "tr_fr$y <- factor(ifelse(tr_fr$y < quantile(tr_fr$y,0.9), \"L\", \"H\"))\n",
    "s(tr_fr)"
   ]
  },
  {
   "cell_type": "code",
   "execution_count": null,
   "id": "70d122b7-d6dc-4dc9-937d-ac3f24bdb7b6",
   "metadata": {
    "tags": [],
    "vscode": {
     "languageId": "r"
    }
   },
   "outputs": [],
   "source": [
    "#测试集\n",
    "set.seed(955) # for reproducibility\n",
    "te_fr <- treemisc::gen_friedman1(100000, nx = 10, sigma = 0.1)\n",
    "te_fr$y <- factor(ifelse(te_fr$y < quantile(te_fr$y,0.9),\"L\", \"H\"))\n",
    "s(te_fr)"
   ]
  },
  {
   "cell_type": "markdown",
   "id": "09ff36f5-c415-4079-9513-6cfa0c8a51d4",
   "metadata": {},
   "source": [
    "假定将L类判为H类的代价为1，H类判为L类的代价为9"
   ]
  },
  {
   "cell_type": "markdown",
   "id": "792241c5-412d-403b-a26f-f51ae61b3ea1",
   "metadata": {},
   "source": [
    "**不采用非平衡方面的处置**"
   ]
  },
  {
   "cell_type": "code",
   "execution_count": null,
   "id": "5634d419-17a7-4c16-8848-780f4f008f2d",
   "metadata": {
    "vscode": {
     "languageId": "r"
    }
   },
   "outputs": [],
   "source": [
    "set.seed(71)\n",
    "(rf_fr <- randomForest(y ~ ., data = tr_fr, ntree = 501))\n",
    "plot(rf_fr)\n",
    "grid()"
   ]
  },
  {
   "cell_type": "code",
   "execution_count": null,
   "id": "a347d871-46b4-492a-9e99-0e1f3f19f43e",
   "metadata": {
    "vscode": {
     "languageId": "r"
    }
   },
   "outputs": [],
   "source": [
    "#测试集总损失\n",
    "sum((te_fr$y == \"L\") & (predict(rf_fr, te_fr) == \"H\")) * 1 + sum((te_fr$y == \"H\") & (predict(rf_fr, te_fr) == \"L\")) * 9"
   ]
  },
  {
   "cell_type": "markdown",
   "id": "991afaf0-4c39-4074-a8c4-66ec0dc3977b",
   "metadata": {},
   "source": [
    "#### 内部参数法\n",
    "\n",
    "--不改变外部训练数据，从训练算法入手"
   ]
  },
  {
   "cell_type": "code",
   "execution_count": null,
   "id": "6aa62069-400a-4168-963b-3ab2280da14e",
   "metadata": {
    "vscode": {
     "languageId": "r"
    }
   },
   "outputs": [],
   "source": [
    "w <- ((tr_fr$y == \"L\") * 1 + (tr_fr$y == \"H\") * 9)    #H类样例的抽样概率是L类的9倍\n",
    "\n",
    "set.seed(71)\n",
    "(rf_frW <- randomForest(y ~ ., data = tr_fr, weights = w, ntree = 501))\n",
    "plot(rf_frW)\n",
    "grid()"
   ]
  },
  {
   "cell_type": "code",
   "execution_count": null,
   "id": "da16bda8-64b9-4fd3-b4ec-42d30ccf8ae7",
   "metadata": {
    "vscode": {
     "languageId": "r"
    }
   },
   "outputs": [],
   "source": [
    "#随机森林rf_frW的测试集总损失\n",
    "sum((te_fr$y == \"L\") & (predict(rf_frW, te_fr) == \"H\")) * 1 + \n",
    "sum((te_fr$y == \"H\") & (predict(rf_frW, te_fr) == \"L\")) * 9"
   ]
  },
  {
   "cell_type": "code",
   "execution_count": null,
   "id": "3f7e56bd-c2f8-46ac-ade9-dd7bbc8aa821",
   "metadata": {
    "vscode": {
     "languageId": "r"
    }
   },
   "outputs": [],
   "source": [
    "#采用“内部参数法”的rpart最优决策树的性能\n",
    "lm <- matrix(c(0,9,1,0), byrow = TRUE, nrow = 2) #L类判为H类的代价为1，H类判为L类的代价为9\n",
    "ct_fr1o <- rpart(y ~ ., data = tr_fr, parms = list(loss = lm), cp = 0.026)  #参见https://github.com/A-Pai/rpart-solveing/blob/main/1-rpart.ipynb\n",
    "#ct_fr1o最优决策树测试集总损失\n",
    "sum((te_fr$y == \"L\") * (predict(ct_fr1o, te_fr, type = \"class\") == \"H\")) * 1 + \n",
    "sum((te_fr$y == \"H\") * (predict(ct_fr1o, te_fr, type = \"class\") == \"L\")) * 9"
   ]
  },
  {
   "cell_type": "markdown",
   "id": "05e1c256-ba8d-4c35-b9b4-026b18202fc0",
   "metadata": {},
   "source": [
    "二者比较，随机森林的泛化性能更优，但耗时较长。"
   ]
  },
  {
   "cell_type": "markdown",
   "id": "88c8c6ee-6478-49e0-b11e-cba114ed21d2",
   "metadata": {},
   "source": [
    "#### 数据扩充法\n",
    "\n",
    "--按照代价(L类判为H类的代价为1，H类判为L类的代价为9)扩充数据，因此将H类扩充到原来的9倍。"
   ]
  },
  {
   "cell_type": "code",
   "execution_count": null,
   "id": "0803029d-1b2c-45e1-b657-07a36718f722",
   "metadata": {
    "tags": [],
    "vscode": {
     "languageId": "r"
    }
   },
   "outputs": [],
   "source": [
    "#将1类扩充到原来的5倍--1类判错的代价是0类的3倍\n",
    "id <- tr_fr$y == \"H\"\n",
    "\n",
    "tr_frE <- tr_fr\n",
    "for(i in 1:8){\n",
    "    tr_frE <- rbind(tr_frE,tr_fr[id,])\n",
    "}\n",
    "set.seed(111)\n",
    "tr_frE <- tr_frE[sample(nrow(tr_frE)),]  #乱序\n",
    "\n",
    "table(tr_frE$y)  #训练集扩充后的构成"
   ]
  },
  {
   "cell_type": "code",
   "execution_count": null,
   "id": "af16030e-c756-4277-9fd7-94979861c0ef",
   "metadata": {
    "vscode": {
     "languageId": "r"
    }
   },
   "outputs": [],
   "source": [
    "set.seed(71)\n",
    "(rf_frE <-randomForest(y ~ ., data = tr_frE, ntree = 501)) \n",
    "plot(rf_frE)\n",
    "grid()"
   ]
  },
  {
   "cell_type": "code",
   "execution_count": null,
   "id": "46331028-aa29-4d1e-9edf-8e2065dfb7ba",
   "metadata": {
    "vscode": {
     "languageId": "r"
    }
   },
   "outputs": [],
   "source": [
    "#随机森林rf_frE的测试集总损失\n",
    "sum((te_fr$y == \"L\") & (predict(rf_frE, te_fr) == \"H\")) * 1 + \n",
    "sum((te_fr$y == \"H\") & (predict(rf_frE, te_fr) == \"L\")) * 9"
   ]
  },
  {
   "cell_type": "code",
   "execution_count": null,
   "id": "1161799b-81b6-44db-b950-44d83975c65e",
   "metadata": {
    "vscode": {
     "languageId": "r"
    }
   },
   "outputs": [],
   "source": [
    "#决策树ct_fr2o的测试集总损失\n",
    "ct_fr2o <- rpart(y ~ ., data = tr_frE,  cp = 0.026)\n",
    "sum((te_fr$y == \"L\") * (predict(ct_fr2o, te_fr, type = \"class\") == \"H\")) * 1 + \n",
    "sum((te_fr$y == \"H\") * (predict(ct_fr2o, te_fr, type = \"class\") == \"L\")) * 9"
   ]
  },
  {
   "cell_type": "markdown",
   "id": "b4801d5b-e7ae-4504-8484-bb039b00de4c",
   "metadata": {},
   "source": [
    "二者比较，随机森林的泛化性能更优，但耗时较长。"
   ]
  },
  {
   "cell_type": "markdown",
   "id": "0592d747-ca9e-47e1-89ce-911030321bab",
   "metadata": {},
   "source": [
    "**思考：内部参数法与数据扩充法性能差异较大，为何？**"
   ]
  },
  {
   "attachments": {},
   "cell_type": "markdown",
   "id": "1a3a6f15-b55e-4b94-9f29-89fd95d92fcb",
   "metadata": {},
   "source": [
    "### 回归：无缺失值、特征连续取值\n",
    "\n",
    "\n",
    "The Friedman 1 benchmark problem uses simulated regression data with 7 input features according to:$Y=10\\sin(\\pi X_1X_2)+20(X_3-0.5)^2+10X_4+5X_5+\\epsilon$ , where $\\epsilon\\sim N(0,\\sigma)$  and the input features are all independent uniform random\n",
    "variables on the interval $[0,1]$: $\\{X_j\\}^{7}_ {j=1}\\overset{iid}{\\sim} U(0,1)$, Notice how $X_6 \\sim X_7 $ are unrelated to the response $Y$ .\n",
    "\n",
    "请注意$X_6 $、$ X_7 $独立于因变量$Y$，方便检验算法判断自变量重要性。"
   ]
  },
  {
   "cell_type": "code",
   "execution_count": null,
   "id": "5790a45b-3691-4ec5-902d-f3289b8ccc2a",
   "metadata": {
    "vscode": {
     "languageId": "r"
    }
   },
   "outputs": [],
   "source": [
    "library(pacman)\n",
    "\n",
    "options(warn = -1) # 忽略一切警告\n",
    "options(\"width\" = 140) # 充分利用打印宽度\n",
    "options(repr.plot.width = 15, repr.plot.height = 10) # 满幅\n",
    "\n",
    "p_load(rpart)\n",
    "p_load(randomForest)\n",
    "p_load(skimr)\n",
    "s <- skim_tee"
   ]
  },
  {
   "cell_type": "code",
   "execution_count": null,
   "id": "3b7682ac-f85b-4ad9-ac0c-fafb62de2de1",
   "metadata": {
    "vscode": {
     "languageId": "r"
    }
   },
   "outputs": [],
   "source": [
    "set.seed(943) # for reproducibility\n",
    "fr <- treemisc::gen_friedman1(1000, nx = 7, sigma = 0.1)\n",
    "s(fr)"
   ]
  },
  {
   "cell_type": "code",
   "execution_count": null,
   "id": "195cb809-059f-428e-9605-d2c67a74fbe5",
   "metadata": {
    "tags": [],
    "vscode": {
     "languageId": "r"
    }
   },
   "outputs": [],
   "source": [
    "#将数据集1:1随机分割成训练集和测试集\n",
    "set.seed(100)\n",
    "I <- sample(nrow(fr),nrow(fr)*0.5)\n",
    "train_fr <- fr[I,]\n",
    "test_fr <- fr[-I,]\n",
    "s(train_fr)"
   ]
  },
  {
   "cell_type": "code",
   "execution_count": null,
   "id": "e1d5d2ab-ce9e-4bad-85c3-5277b0b4a2e1",
   "metadata": {
    "vscode": {
     "languageId": "r"
    }
   },
   "outputs": [],
   "source": [
    "set.seed(71)\n",
    "(rf_fr <- randomForest(y ~ ., data = train_fr, importance = TRUE)) \n",
    "plot(rf_fr)\n",
    "grid()"
   ]
  },
  {
   "cell_type": "code",
   "execution_count": null,
   "id": "a2ceeee9-caa0-4516-a5f9-4afeca56b23f",
   "metadata": {
    "tags": [],
    "vscode": {
     "languageId": "r"
    }
   },
   "outputs": [],
   "source": [
    "#随机森林的泛化性能\n",
    "(MSE_test_f <- mean((predict(rf_fr, test_fr)  - test_fr$y)^2))    #测试集的MSE\n",
    "\n",
    "#根据1-SE原则，最优cp=0.0032,参见https://github.com/A-Pai/rpart-solveing/blob/main/1-rpart.ipynb\n",
    "rtfro <- rpart(y ~ .,data = train_fr, cp = 0.0032)\n",
    "#rpart决策树的泛化性能\n",
    "(MSE_test <- mean((predict(rtfro, test_fr)   - test_fr$y)^2))    #测试集的MSE  \n",
    "\n",
    "#二者比较，可见随机森林的泛化性能优于决策树"
   ]
  },
  {
   "cell_type": "code",
   "execution_count": null,
   "id": "0b0481fa-22dc-452e-b2fe-cb8f14e6cff8",
   "metadata": {
    "tags": [],
    "vscode": {
     "languageId": "r"
    }
   },
   "outputs": [],
   "source": [
    "# 特征的重要性均值:\n",
    "(vip <- rf_fr$importance)"
   ]
  },
  {
   "cell_type": "markdown",
   "id": "4e0c1cce-4e42-456a-9046-60e5bf846df6",
   "metadata": {},
   "source": [
    "%IncMSE计算：\n",
    "1. grow regression forest. Compute OOB-mse, name this mse0.\n",
    "1. for 1 to j var: permute values of column j, then predict and compute OOB-mse(j)\n",
    "1. %IncMSE of j'th is (mse(j)-mse0)/mse0 * 100%\n",
    "\n",
    "IncNodePurity计算：\n",
    "\n",
    "IncNodePurity (Increase in Node Purity) expresses the change in the homogeneity of the of the groups created by the trees ,for regression, it is measured by residual sum of squares."
   ]
  },
  {
   "cell_type": "code",
   "execution_count": null,
   "id": "9b51bd00-d603-41f3-93a0-62662c790602",
   "metadata": {
    "tags": [],
    "vscode": {
     "languageId": "r"
    }
   },
   "outputs": [],
   "source": [
    "# 变量重要性降序排列\n",
    "par(mfrow = c(3,1))\n",
    "barplot(sort(vip[, \"%IncMSE\"], decreasing = TRUE), main = \"%IncMSE\")\n",
    "barplot(sort(vip[, \"IncNodePurity\"], decreasing = TRUE), main = \"IncNodePurity\")\n",
    "barplot(rtfro$variable.importance, main = \"VIP-rpart\")    #最优rpart决策树的变量重要性降序排列\n",
    "#可见三者不尽相同，但随机森林的二种评价方式都将x6、x7排在了重要性的末尾，raprt未能将x6、x7排在重要性的末尾"
   ]
  },
  {
   "cell_type": "code",
   "execution_count": null,
   "id": "5f658c1a-5d0c-4a18-904e-4f98b30d99db",
   "metadata": {
    "vscode": {
     "languageId": "r"
    }
   },
   "outputs": [],
   "source": [
    "# 针对于各个样例的“局部重要性”\n",
    "rf_ab$localImportance"
   ]
  },
  {
   "cell_type": "code",
   "execution_count": null,
   "id": "c39ff99a-4406-4341-a119-cbd7323a3c78",
   "metadata": {
    "vscode": {
     "languageId": "r"
    }
   },
   "outputs": [],
   "source": [
    "#每个样例处于OOB的次数--是这么多次回归的均值\n",
    "rf_fr$OOB.times"
   ]
  },
  {
   "cell_type": "code",
   "execution_count": null,
   "id": "68e784d8-77ca-4b97-95da-57ab0a99587f",
   "metadata": {
    "scrolled": true,
    "vscode": {
     "languageId": "r"
    }
   },
   "outputs": [],
   "source": [
    "rf_ab$proximity"
   ]
  },
  {
   "cell_type": "code",
   "execution_count": null,
   "id": "91c82d8e-cc67-44b1-9a8d-bbcf22348a46",
   "metadata": {
    "scrolled": true,
    "vscode": {
     "languageId": "r"
    }
   },
   "outputs": [],
   "source": [
    "#“pseudo R-squared”: 1 - mse /Var(y)\n",
    "rf_ab$rsq"
   ]
  },
  {
   "cell_type": "markdown",
   "id": "28aed4d0-f32c-498b-9543-fc489445bea9",
   "metadata": {},
   "source": [
    "### 回归：无缺失值、特征混合取值\n",
    "\n",
    "　　The Abalone data consist of data from 4177 abalones. The data consist of measurements of the type (male, female and infant), the longest shell measurement, the diameter, height and several weights (whole, shucked, viscera and shell). The outcome is the number of rings.  The age of the abalone is the number of rings plus 1.5.\n",
    "  \n",
    "  根据一系列特征推测abalone的年龄值"
   ]
  },
  {
   "cell_type": "code",
   "execution_count": null,
   "id": "ed6fdd2a-fa2b-4baf-bf66-5973fc099e07",
   "metadata": {
    "vscode": {
     "languageId": "r"
    }
   },
   "outputs": [],
   "source": [
    "library(pacman)\n",
    "\n",
    "options(warn = -1) # 忽略一切警告\n",
    "options(\"width\" = 140) # 充分利用打印宽度\n",
    "options(repr.plot.width = 15, repr.plot.height = 10) # 满幅\n",
    "\n",
    "p_load(rpart)\n",
    "p_load(randomForest)\n",
    "p_load(AppliedPredictiveModeling)\n",
    "p_load(skimr)\n",
    "s <- skim_tee"
   ]
  },
  {
   "cell_type": "code",
   "execution_count": null,
   "id": "f97a9430-edae-4893-a046-9d6b974847d2",
   "metadata": {
    "vscode": {
     "languageId": "r"
    }
   },
   "outputs": [],
   "source": [
    "data(abalone)\n",
    "ab <- abalone\n",
    "s(ab)"
   ]
  },
  {
   "cell_type": "code",
   "execution_count": null,
   "id": "45c01c7f-7fd6-4a6f-9619-6e4f096ba5d1",
   "metadata": {
    "scrolled": true,
    "tags": [],
    "vscode": {
     "languageId": "r"
    }
   },
   "outputs": [],
   "source": [
    "#将数据集1:1随机分割成训练集和测试集\n",
    "set.seed(100)\n",
    "I <- sample(nrow(ab),nrow(ab)*0.5)\n",
    "train_ab <- ab[I,]\n",
    "test_ab <- ab[-I,]\n",
    "s(train_ab)"
   ]
  },
  {
   "cell_type": "code",
   "execution_count": null,
   "id": "2cf9c814-8281-4dc4-9306-1c713bd48e65",
   "metadata": {
    "scrolled": true,
    "vscode": {
     "languageId": "r"
    }
   },
   "outputs": [],
   "source": [
    "set.seed(71)\n",
    "(rf_ab <-randomForest(Rings ~ ., data = train_ab, importance = TRUE, proximity = TRUE, localImp = TRUE)) #默认norm.votes=TRUE\n",
    "\n",
    "plot(rf_ab)\n",
    "grid()"
   ]
  },
  {
   "cell_type": "code",
   "execution_count": null,
   "id": "5e5daa4c-aa75-4902-ae89-8640a4b8c8c9",
   "metadata": {
    "tags": [],
    "vscode": {
     "languageId": "r"
    }
   },
   "outputs": [],
   "source": [
    "#根据1-SE原则，最优cp=0.0097，参见https://github.com/A-Pai/rpart-solveing/blob/main/1-rpart.ipynb\n",
    "rtabo <- rpart(Rings ~ .,data = train_ab, cp = 0.0097) \n",
    "#决策树的泛化性能\n",
    "(MSE_test <- mean((predict(rtabo, test_ab) - test_ab$Rings)^2))    #测试集的MSE\n",
    "\n",
    "#随机森林的泛化性能\n",
    "(MSE_test_f <- mean((predict(rf_ab, test_ab)  - test_ab$Rings)^2))    #测试集的MSE\n",
    "#可见随机森林的泛化性能优于决策树"
   ]
  },
  {
   "cell_type": "code",
   "execution_count": null,
   "id": "c8001aec-81e5-47d2-9d1d-6678e77779d7",
   "metadata": {
    "vscode": {
     "languageId": "r"
    }
   },
   "outputs": [],
   "source": []
  }
 ],
 "metadata": {
  "kernelspec": {
   "display_name": "R",
   "language": "R",
   "name": "ir"
  },
  "language_info": {
   "codemirror_mode": "r",
   "file_extension": ".r",
   "mimetype": "text/x-r-source",
   "name": "R",
   "pygments_lexer": "r",
   "version": "4.4.1"
  },
  "toc-autonumbering": false,
  "widgets": {
   "application/vnd.jupyter.widget-state+json": {
    "state": {},
    "version_major": 2,
    "version_minor": 0
   }
  }
 },
 "nbformat": 4,
 "nbformat_minor": 5
}
