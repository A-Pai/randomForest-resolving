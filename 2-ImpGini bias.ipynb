{
 "cells": [
  {
   "cell_type": "markdown",
   "id": "2e54925a-5c7c-4870-97e4-b1b085fb19ba",
   "metadata": {},
   "source": [
    "**验证、说明rpart算法倾向于选择类别取值多的特征**"
   ]
  },
  {
   "cell_type": "code",
   "execution_count": 1,
   "id": "b828f342-91c3-447c-aa46-6b5e75430516",
   "metadata": {},
   "outputs": [],
   "source": [
    "options(warn=-1)    #忽略一切警告\n",
    "options('width'=140)  #充分利用打印宽度\n",
    "options(repr.plot.width=15, repr.plot.height=10)  #满幅\n",
    "\n",
    "library(pacman)\n",
    "p_load(randomForest)\n",
    "p_load(skimr)\n",
    "s <- skim_tee"
   ]
  },
  {
   "cell_type": "code",
   "execution_count": 4,
   "id": "fe285f9d-2b83-4120-8737-dc487ba93201",
   "metadata": {},
   "outputs": [
    {
     "data": {
      "text/html": [
       "1"
      ],
      "text/latex": [
       "1"
      ],
      "text/markdown": [
       "1"
      ],
      "text/plain": [
       "[1] 1"
      ]
     },
     "metadata": {},
     "output_type": "display_data"
    },
    {
     "data": {
      "text/html": [
       "0.887556221889055"
      ],
      "text/latex": [
       "0.887556221889055"
      ],
      "text/markdown": [
       "0.887556221889055"
      ],
      "text/plain": [
       "[1] 0.8875562"
      ]
     },
     "metadata": {},
     "output_type": "display_data"
    },
    {
     "data": {
      "text/html": [
       "0.576711644177911"
      ],
      "text/latex": [
       "0.576711644177911"
      ],
      "text/markdown": [
       "0.576711644177911"
      ],
      "text/plain": [
       "[1] 0.5767116"
      ]
     },
     "metadata": {},
     "output_type": "display_data"
    },
    {
     "data": {
      "text/html": [
       "0.468265867066467"
      ],
      "text/latex": [
       "0.468265867066467"
      ],
      "text/markdown": [
       "0.468265867066467"
      ],
      "text/plain": [
       "[1] 0.4682659"
      ]
     },
     "metadata": {},
     "output_type": "display_data"
    },
    {
     "data": {
      "text/html": [
       "0.701149425287356"
      ],
      "text/latex": [
       "0.701149425287356"
      ],
      "text/markdown": [
       "0.701149425287356"
      ],
      "text/plain": [
       "[1] 0.7011494"
      ]
     },
     "metadata": {},
     "output_type": "display_data"
    }
   ],
   "source": [
    "# 生成数据--x1~x4与y独立\n",
    "set.seed(100)\n",
    "x1 <- factor((sample(500) %% 2)) # 2种取值\n",
    "set.seed(101)\n",
    "x2 <- factor((sample(500) %% 10)) # 10种取值\n",
    "set.seed(102)\n",
    "x3 <- factor((sample(500) %% 20)) # 20种取值\n",
    "set.seed(103)\n",
    "x4 <- factor((sample(500) %% 25)) # 25种取值\n",
    "set.seed(104)\n",
    "x5 <- factor((sample(500) %% 50)) # 50种取值\n",
    "set.seed(105)\n",
    "y <- factor((sample(500) %% 2))\n",
    "\n",
    "dt <- data.frame(x1, x2, x3, x4, x5,y)\n",
    "\n",
    "# 独立性假设检验\n",
    "(chisq.test(table(x1, y), simulate.p.value = TRUE)$p.value)\n",
    "(chisq.test(table(x2, y), simulate.p.value = TRUE)$p.value)\n",
    "(chisq.test(table(x3, y), simulate.p.value = TRUE)$p.value)\n",
    "(chisq.test(table(x4, y), simulate.p.value = TRUE)$p.value)\n",
    "(chisq.test(table(x5, y), simulate.p.value = TRUE)$p.value)\n",
    "#p值均>>0.05，不能拒绝x1~x4与y独立"
   ]
  },
  {
   "cell_type": "code",
   "execution_count": 5,
   "id": "49ab1ed2-f5ad-4076-ae14-f5760d780eec",
   "metadata": {},
   "outputs": [
    {
     "name": "stdout",
     "output_type": "stream",
     "text": [
      "  |==================================================================================================================================| 100%"
     ]
    },
    {
     "data": {
      "image/png": "[encoded data removed]",
      "text/plain": [
       "Plot with title \"ImpGini\""
      ]
     },
     "metadata": {
      "image/png": {
       "height": 600,
       "width": 900
      }
     },
     "output_type": "display_data"
    }
   ],
   "source": [
    "nr <- 100     # number of experiment\n",
    "\n",
    "ImpPerm <- matrix(ncol = 5, nrow = nr) # 用于存储多次实验得到Permutation Importance的数据\n",
    "colnames(ImpPerm) <- paste(\"x\", (1:5), sep = \"\") # 以变量名命名列\n",
    "ImpGini <- matrix(ncol = 5, nrow = nr) # 用于存储多次实验得到Permutation Importance的数据\n",
    "colnames(ImpGini) <- paste(\"x\", (1:5), sep = \"\") # 以变量名命名列\n",
    "\n",
    "library(pacman)\n",
    "p_load(randomForest)\n",
    "pb <- txtProgressBar(style = 3)\n",
    "for (i in 1:nr) {\n",
    "  set.seed(i)\n",
    "  rf_randomForest <- randomForest(y ~ ., data = dt, importance = TRUE)\n",
    "  imp <- importance(rf_randomForest, scale = FALSE)\n",
    "  \n",
    "  ImpPerm[i, ] <- imp[, 3]\n",
    "  ImpGini[i, ] <- imp[, 4]\n",
    "  \n",
    "  setTxtProgressBar(pb, i / nr)\n",
    "}\n",
    "\n",
    "par(mfrow = c(1, 2))\n",
    "boxplot(ImpPerm, main = \"ImpPerm\", ylab = \"%\")\n",
    "grid()\n",
    "boxplot(ImpGini, main = \"ImpGini\")\n",
    "grid()"
   ]
  },
  {
   "cell_type": "markdown",
   "id": "017e049f-becc-44eb-9d8a-dc6bf5d5f923",
   "metadata": {},
   "source": [
    "由上图可见：\n",
    "- ImpPerm均值及分布均在0值附近，不随着类别数增大而规律性变化。\n",
    "- ImpGini值随着类别数增大而提升\n",
    "\n",
    "**结论**\n",
    "- ImpPerm并不倾向于类别数多的特征\n",
    "- ImpGini值倾向于类别数多的特征"
   ]
  },
  {
   "cell_type": "code",
   "execution_count": null,
   "id": "1396bdb1-1423-453d-9293-d9cd39fc76a9",
   "metadata": {},
   "outputs": [],
   "source": []
  }
 ],
 "metadata": {
  "kernelspec": {
   "display_name": "R",
   "language": "R",
   "name": "ir"
  },
  "language_info": {
   "codemirror_mode": "r",
   "file_extension": ".r",
   "mimetype": "text/x-r-source",
   "name": "R",
   "pygments_lexer": "r",
   "version": "4.3.2"
  }
 },
 "nbformat": 4,
 "nbformat_minor": 5
}
